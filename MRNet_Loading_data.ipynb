{
  "nbformat": 4,
  "nbformat_minor": 0,
  "metadata": {
    "colab": {
      "name": "MRNet Loading data",
      "version": "0.3.2",
      "provenance": [],
      "collapsed_sections": [],
      "toc_visible": true
    },
    "kernelspec": {
      "name": "python3",
      "display_name": "Python 3"
    },
    "accelerator": "GPU"
  },
  "cells": [
    {
      "cell_type": "code",
      "metadata": {
        "id": "LFYC3AVI2ov_",
        "colab_type": "code",
        "colab": {}
      },
      "source": [
        "#imports cell \n",
        "import numpy as np\n",
        "import pandas as pd\n",
        "import os"
      ],
      "execution_count": 0,
      "outputs": []
    },
    {
      "cell_type": "markdown",
      "metadata": {
        "id": "oEEb16xtStmT",
        "colab_type": "text"
      },
      "source": [
        "### Mount the Google Drive to Google Colab"
      ]
    },
    {
      "cell_type": "code",
      "metadata": {
        "id": "oiYVvU4lR5Kd",
        "colab_type": "code",
        "outputId": "3dcdfc88-3045-46ad-b7cb-f56cffe4ff57",
        "colab": {
          "base_uri": "https://localhost:8080/",
          "height": 124
        }
      },
      "source": [
        "from google.colab import drive\n",
        "drive.mount('/content/gdrive')"
      ],
      "execution_count": 2,
      "outputs": [
        {
          "output_type": "stream",
          "text": [
            "Go to this URL in a browser: https://accounts.google.com/o/oauth2/auth?client_id=947318989803-6bn6qk8qdgf4n4g3pfee6491hc0brc4i.apps.googleusercontent.com&redirect_uri=urn%3Aietf%3Awg%3Aoauth%3A2.0%3Aoob&scope=email%20https%3A%2F%2Fwww.googleapis.com%2Fauth%2Fdocs.test%20https%3A%2F%2Fwww.googleapis.com%2Fauth%2Fdrive%20https%3A%2F%2Fwww.googleapis.com%2Fauth%2Fdrive.photos.readonly%20https%3A%2F%2Fwww.googleapis.com%2Fauth%2Fpeopleapi.readonly&response_type=code\n",
            "\n",
            "Enter your authorization code:\n",
            "··········\n",
            "Mounted at /content/gdrive\n"
          ],
          "name": "stdout"
        }
      ]
    },
    {
      "cell_type": "markdown",
      "metadata": {
        "id": "vGyW3oT8T_le",
        "colab_type": "text"
      },
      "source": [
        "### Download the dataset from the link provided by Stanford University upon registration. (This cell is only executed once)"
      ]
    },
    {
      "cell_type": "code",
      "metadata": {
        "id": "NonaaO4pS1ha",
        "colab_type": "code",
        "outputId": "18fbec07-e188-4274-9bf9-2ffd79530ab8",
        "colab": {
          "base_uri": "https://localhost:8080/",
          "height": 119
        }
      },
      "source": [
        "!wget http://download.cs.stanford.edu/deep/MRNet-v1.0.zip\n",
        "!unzip -qq \"MRNet-v1.0.zip\" -d \"/content/gdrive/My Drive/Dataset/\""
      ],
      "execution_count": 0,
      "outputs": [
        {
          "output_type": "stream",
          "text": [
            "warning [MRNet-v1.0.zip]:  4294967296 extra bytes at beginning or within zipfile\n",
            "  (attempting to process anyway)\n",
            "file #1:  bad zipfile offset (local header sig):  4294967296\n",
            "  (attempting to re-compensate)\n",
            "file #2547:  bad zipfile offset (local header sig):  1353202\n",
            "  (attempting to re-compensate)\n"
          ],
          "name": "stdout"
        }
      ]
    },
    {
      "cell_type": "markdown",
      "metadata": {
        "id": "lmSut1gvK9n6",
        "colab_type": "text"
      },
      "source": [
        "### Understanding the dataset\n",
        "\n",
        "\n",
        "*   The MRNet Dataset contains data from 1,370 knee MRI (magnetic resonance imaging) exams.\n",
        "*   1,104 (80.6%) are abnormal cases\n",
        "*   319 (23.3%) diagnosed as ACL (anterior cruciate ligament) tears\n",
        "*   508 (37.1%) as Meniscal tears.\n",
        "*   For model training, the dataset is further divided into a training set with 1,130 exams, a validation set with 120 exams, and a hidden test set with 120 exams. \n",
        "\n",
        "*  The MRNet Dataset was originally used to develop MRNet, a deep learning model that can “rapidly generate accurate clinical pathology classifications of knee MRI exams.”  Trained on the MRNet dataset, MRNet is a CNN-based model that maps a 3-dimensional MRI series to a probability, in order to predict abnormalities in knee MRI exams.\n",
        "\n",
        "![MRNet Model](https://cdn-images-1.medium.com/max/1000/0*8Q-qUL4GFJqHj-q1.png)\n",
        "\n"
      ]
    },
    {
      "cell_type": "markdown",
      "metadata": {
        "id": "ZAfAjdCLFv_3",
        "colab_type": "text"
      },
      "source": [
        "### Basic medical imaging terminology\n",
        "\n",
        "\n",
        "*   Magnetic resonance imaging (MRI) is a cross-sectional imaging modality, meaning that 2D images are acquired more-or-less sequentially in different imaging planes. \n",
        "\n",
        "* The standard planes of imaging included in the MRNet data set are: **axial, coronal and sagittal.**\n",
        "\n",
        "* MR images are acquired by sequences of **radiofrequency (RF) pulses.**\n",
        "\n",
        "* Different sequences are designed to produce a signal that can be acquired and processed to reveal different patterns of signal intensity in biologic tissues. \n",
        "\n",
        "* **T1-weighting, T2-weighting, and proton density (PD)-weighting** are the 3 core pulse sequence types used in musculoskeletal imaging.\n",
        "\n",
        "* **Slice**: an individual image is often referred to as a slice\n",
        "\n",
        "* **Series**: a full stack of images acquired with a given pulse sequence in a given plane\n",
        "\n",
        "* **Field-of-view (FOV)**: the spatial coverage of the image\n",
        "\n",
        "![Coronal T1-weighted images without fat saturation](https://cdn-images-1.medium.com/max/800/1*0EDKWMoEClKKGoj-7OXRkA.png)\n",
        "\n",
        "![alt text](https://cdn-images-1.medium.com/max/800/1*T2Rqq_cOXaWctLj9ThcexQ.png)\n",
        "\n",
        "![alt text](https://cdn-images-1.medium.com/max/800/1*l1ecYeukNKKzYHBYUl5YAA.png)\n",
        "\n"
      ]
    },
    {
      "cell_type": "markdown",
      "metadata": {
        "id": "dSE2KbpnHI01",
        "colab_type": "text"
      },
      "source": [
        "###  Understaing the files structure of the dataset\n",
        "\n",
        "\n",
        "*   The *.csv files contain the labels for the cases.\n",
        "\n",
        "*   The *.npy files contained in the subdirectories of train and valid are NumPy arrays of dimension (slices, x, y). The x and y dimensions are consistently 256 x 256 across all exams with int values ranging from 0 to 255. This implies that the pixel data has already been normalized by the Stanford ML Group.\n",
        "\n",
        "* The image stack for each exam may contain different numbers of images and each exam may have a different number of slices for any given plane. This is completely normal for medical imaging data.\n",
        "\n"
      ]
    },
    {
      "cell_type": "markdown",
      "metadata": {
        "id": "V3r-yLC8H7tK",
        "colab_type": "text"
      },
      "source": [
        "### Exploring the dataset further\n",
        "\n",
        "\n",
        "*   There are many abnormal exams that don’t contain an ACL or meniscal tear.\n",
        "\n",
        "*   There are far more exams that contain both an ACL tear and a meniscal tear than there are cases with just an ACL tear.  (Due to the mechanisms of injury and forces required to tear the ACL, the menisci are very often injured as well)\n",
        "\n",
        "* **Per case, there are three sequencies:**\n",
        "1.   Coronal T1-weighted images without fat saturation\n",
        "2.   Sagittal T2-weighted images with fat-sat (fluid-sensitive)\n",
        "3.   Axial PD-weighted images with fat-sat (fluid-sensitive)\n",
        "\n",
        "\n",
        "* More from here: https://towardsdatascience.com/a-radiologists-exploration-of-the-stanford-ml-group-s-mrnet-data-8e2374e11bfb\n",
        " \n",
        " And here: https://medium.com/syncedreview/stanford-ml-releases-mrnet-knee-mri-dataset-9f44d7621131\n",
        " \n",
        " And here: https://journals.plos.org/plosmedicine/article?id=10.1371/journal.pmed.1002699\n",
        "\n",
        "\n",
        "\n",
        "\n",
        "\n",
        "\n",
        "\n"
      ]
    },
    {
      "cell_type": "markdown",
      "metadata": {
        "id": "I53NjFi028iM",
        "colab_type": "text"
      },
      "source": [
        "# Loading dataset into Pandas Tables"
      ]
    },
    {
      "cell_type": "code",
      "metadata": {
        "id": "sdqAfICdYsph",
        "colab_type": "code",
        "colab": {}
      },
      "source": [
        "!mkdir /content/gdrive/My\\ Drive/Dataset/MRNet_3_Middle_Slices"
      ],
      "execution_count": 0,
      "outputs": []
    },
    {
      "cell_type": "code",
      "metadata": {
        "id": "y5jegZotH7Pu",
        "colab_type": "code",
        "colab": {}
      },
      "source": [
        "data_path = Path('/content/gdrive/My Drive/Dataset/MRNet-v1.0')"
      ],
      "execution_count": 0,
      "outputs": []
    },
    {
      "cell_type": "code",
      "metadata": {
        "id": "PZpVG5WqTi5c",
        "colab_type": "code",
        "colab": {}
      },
      "source": [
        "dilation=3\n",
        "for d in ('train','valid'):\n",
        "  for plane in ('axial','coronal','sagittal'):\n",
        "    base_dirpath='/content/gdrive/My Drive/Dataset'\n",
        "    data_dirpath=base_dirpath+'/MRNet-v1.0/'+d+'/'+plane\n",
        "    npy_files = [f for f in os.listdir(data_dirpath) if f[-4:]=='.npy']\n",
        "    for file in npy_files:\n",
        "      orig_file_path=data_dirpath+'/'+file\n",
        "      new_file_path=base_dirpath+'/'+'MRNet_3_Middle_Slices/MRNet-v1.0'+'/'+d+'/'+plane+'/'+file\n",
        "      orig_stack=np.load(orig_file_path)\n",
        "      mid_slice_idx=orig_stack.shape[0]//2\n",
        "      mid_slice = orig_stack[mid_slice_idx]\n",
        "      lower_slice = orig_stack[mid_slice_idx-dilation]\n",
        "      upper_slice = orig_stack[mid_slice_idx+dilation]\n",
        "      new_stack=np.concatenate((lower_slice,mid_slice,upper_slice))\n",
        "      np.save(new_file_path,new_stack)\n",
        "      "
      ],
      "execution_count": 0,
      "outputs": []
    },
    {
      "cell_type": "code",
      "metadata": {
        "id": "GW0l1ph_iWfe",
        "colab_type": "code",
        "colab": {}
      },
      "source": [
        ""
      ],
      "execution_count": 0,
      "outputs": []
    }
  ]
}